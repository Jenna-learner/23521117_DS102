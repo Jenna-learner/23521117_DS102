{
 "cells": [
  {
   "cell_type": "markdown",
   "id": "31e83dd7",
   "metadata": {},
   "source": [
    "## Assignment 3 – Dùng thư viện (Scikit‑learn)\n",
    "\n",
    "- Nhiệm vụ: Dùng `scikit-learn` để xây 2 mô hình: (i) **Binary Logistic Regression** (Graduate vs Non‑graduate) và (ii) **Multinomial Logistic Regression** cho 3 lớp; đánh giá bằng accuracy, confusion matrix, classification report."
   ]
  },
  {
   "cell_type": "code",
   "execution_count": null,
   "id": "fe5ca0ca",
   "metadata": {},
   "outputs": [],
   "source": [
    "\n",
    "# (1) Tải và chuẩn bị dữ liệu\n",
    "from ucimlrepo import fetch_ucirepo\n",
    "import numpy as np, pandas as pd\n",
    "\n",
    "ds = fetch_ucirepo(id=697)\n",
    "X = ds.data.features.copy()\n",
    "y = ds.data.targets.copy()\n",
    "\n",
    "target_col = 'Target' if 'Target' in y.columns else y.columns[0]\n",
    "y = y[target_col].astype(str).str.lower()\n",
    "\n",
    "X_mat = X.select_dtypes(include=[np.number]).fillna(0).values.astype(float)\n",
    "\n",
    "# Train/Test split\n",
    "from sklearn.model_selection import train_test_split\n",
    "Xtr, Xte, ytr, yte = train_test_split(X_mat, y, test_size=0.2, random_state=42, stratify=y)\n",
    "\n",
    "# (2) Chuẩn hóa + Logistic Regression (binary & multiclass)\n",
    "from sklearn.pipeline import Pipeline\n",
    "from sklearn.preprocessing import StandardScaler\n",
    "from sklearn.linear_model import LogisticRegression\n",
    "from sklearn.metrics import classification_report, confusion_matrix, accuracy_score\n",
    "\n",
    "# 2a) Binary: Graduate vs Non-graduate\n",
    "ytr_bin = np.where(ytr.str.startswith('gradu'), 'graduate', 'non-graduate')\n",
    "yte_bin = np.where(yte.str.startswith('gradu'), 'graduate', 'non-graduate')\n",
    "\n",
    "pipe_bin = Pipeline([\n",
    "    (\"scaler\", StandardScaler()),\n",
    "    (\"clf\", LogisticRegression(max_iter=1000, solver=\"lbfgs\"))\n",
    "])\n",
    "pipe_bin.fit(Xtr, ytr_bin)\n",
    "pred_bin = pipe_bin.predict(Xte)\n",
    "\n",
    "print(\"=== Binary (Graduate vs Non-graduate) ===\")\n",
    "print(\"Accuracy:\", accuracy_score(yte_bin, pred_bin))\n",
    "print(\"Confusion Matrix:\\n\", confusion_matrix(yte_bin, pred_bin))\n",
    "print(classification_report(yte_bin, pred_bin))\n",
    "\n",
    "# 2b) Multiclass: Dropout vs Enrolled vs Graduate\n",
    "pipe_mc = Pipeline([\n",
    "    (\"scaler\", StandardScaler()),\n",
    "    (\"clf\", LogisticRegression(max_iter=1000, multi_class=\"multinomial\", solver=\"lbfgs\"))\n",
    "])\n",
    "pipe_mc.fit(Xtr, ytr)\n",
    "pred_mc = pipe_mc.predict(Xte)\n",
    "\n",
    "print(\"\\n=== Multiclass (Dropout / Enrolled / Graduate) ===\")\n",
    "print(\"Accuracy:\", accuracy_score(yte, pred_mc))\n",
    "print(\"Confusion Matrix:\\n\", confusion_matrix(yte, pred_mc))\n",
    "print(classification_report(yte, pred_mc))\n"
   ]
  }
 ],
 "metadata": {
  "language_info": {
   "name": "python"
  }
 },
 "nbformat": 4,
 "nbformat_minor": 5
}
