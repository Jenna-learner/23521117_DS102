{
 "cells": [
  {
   "cell_type": "markdown",
   "id": "31e83dd7",
   "metadata": {},
   "source": [
    "## Assignment 3 – Dùng thư viện (Scikit‑learn)\n",
    "\n",
    "- Nhiệm vụ: Dùng `scikit-learn` để xây 2 mô hình: (i) **Binary Logistic Regression** (Graduate vs Non‑graduate) và (ii) **Multinomial Logistic Regression** cho 3 lớp; đánh giá bằng accuracy, confusion matrix, classification report."
   ]
  },
  {
   "cell_type": "code",
   "execution_count": 1,
   "id": "fe5ca0ca",
   "metadata": {},
   "outputs": [
    {
     "name": "stdout",
     "output_type": "stream",
     "text": [
      "=== Binary (Graduate vs Non-graduate) ===\n",
      "Accuracy: 0.8542372881355932\n",
      "Confusion Matrix:\n",
      " [[389  53]\n",
      " [ 76 367]]\n",
      "              precision    recall  f1-score   support\n",
      "\n",
      "    graduate       0.84      0.88      0.86       442\n",
      "non-graduate       0.87      0.83      0.85       443\n",
      "\n",
      "    accuracy                           0.85       885\n",
      "   macro avg       0.86      0.85      0.85       885\n",
      "weighted avg       0.86      0.85      0.85       885\n",
      "\n",
      "\n",
      "=== Multiclass (Dropout / Enrolled / Graduate) ===\n",
      "Accuracy: 0.768361581920904\n",
      "Confusion Matrix:\n",
      " [[218  29  37]\n",
      " [ 43  53  63]\n",
      " [ 14  19 409]]\n",
      "              precision    recall  f1-score   support\n",
      "\n",
      "     dropout       0.79      0.77      0.78       284\n",
      "    enrolled       0.52      0.33      0.41       159\n",
      "    graduate       0.80      0.93      0.86       442\n",
      "\n",
      "    accuracy                           0.77       885\n",
      "   macro avg       0.71      0.68      0.68       885\n",
      "weighted avg       0.75      0.77      0.75       885\n",
      "\n"
     ]
    },
    {
     "name": "stderr",
     "output_type": "stream",
     "text": [
      "c:\\Users\\Nhi\\anaconda3\\Lib\\site-packages\\sklearn\\linear_model\\_logistic.py:1247: FutureWarning: 'multi_class' was deprecated in version 1.5 and will be removed in 1.7. From then on, it will always use 'multinomial'. Leave it to its default value to avoid this warning.\n",
      "  warnings.warn(\n"
     ]
    }
   ],
   "source": [
    "\n",
    "# (1) Tải và chuẩn bị dữ liệu\n",
    "from ucimlrepo import fetch_ucirepo\n",
    "import numpy as np, pandas as pd\n",
    "\n",
    "ds = fetch_ucirepo(id=697)\n",
    "X = ds.data.features.copy()\n",
    "y = ds.data.targets.copy()\n",
    "\n",
    "target_col = 'Target' if 'Target' in y.columns else y.columns[0]\n",
    "y = y[target_col].astype(str).str.lower()\n",
    "\n",
    "X_mat = X.select_dtypes(include=[np.number]).fillna(0).values.astype(float)\n",
    "\n",
    "# Train/Test split\n",
    "from sklearn.model_selection import train_test_split\n",
    "Xtr, Xte, ytr, yte = train_test_split(X_mat, y, test_size=0.2, random_state=42, stratify=y)\n",
    "\n",
    "# (2) Chuẩn hóa + Logistic Regression (binary & multiclass)\n",
    "from sklearn.pipeline import Pipeline\n",
    "from sklearn.preprocessing import StandardScaler\n",
    "from sklearn.linear_model import LogisticRegression\n",
    "from sklearn.metrics import classification_report, confusion_matrix, accuracy_score\n",
    "\n",
    "# 2a) Binary: Graduate vs Non-graduate\n",
    "ytr_bin = np.where(ytr.str.startswith('gradu'), 'graduate', 'non-graduate')\n",
    "yte_bin = np.where(yte.str.startswith('gradu'), 'graduate', 'non-graduate')\n",
    "\n",
    "pipe_bin = Pipeline([\n",
    "    (\"scaler\", StandardScaler()),\n",
    "    (\"clf\", LogisticRegression(max_iter=1000, solver=\"lbfgs\"))\n",
    "])\n",
    "pipe_bin.fit(Xtr, ytr_bin)\n",
    "pred_bin = pipe_bin.predict(Xte)\n",
    "\n",
    "print(\"=== Binary (Graduate vs Non-graduate) ===\")\n",
    "print(\"Accuracy:\", accuracy_score(yte_bin, pred_bin))\n",
    "print(\"Confusion Matrix:\\n\", confusion_matrix(yte_bin, pred_bin))\n",
    "print(classification_report(yte_bin, pred_bin))\n",
    "\n",
    "# 2b) Multiclass: Dropout vs Enrolled vs Graduate\n",
    "pipe_mc = Pipeline([\n",
    "    (\"scaler\", StandardScaler()),\n",
    "    (\"clf\", LogisticRegression(max_iter=1000, multi_class=\"multinomial\", solver=\"lbfgs\"))\n",
    "])\n",
    "pipe_mc.fit(Xtr, ytr)\n",
    "pred_mc = pipe_mc.predict(Xte)\n",
    "\n",
    "print(\"\\n=== Multiclass (Dropout / Enrolled / Graduate) ===\")\n",
    "print(\"Accuracy:\", accuracy_score(yte, pred_mc))\n",
    "print(\"Confusion Matrix:\\n\", confusion_matrix(yte, pred_mc))\n",
    "print(classification_report(yte, pred_mc))\n"
   ]
  }
 ],
 "metadata": {
  "kernelspec": {
   "display_name": "base",
   "language": "python",
   "name": "python3"
  },
  "language_info": {
   "codemirror_mode": {
    "name": "ipython",
    "version": 3
   },
   "file_extension": ".py",
   "mimetype": "text/x-python",
   "name": "python",
   "nbconvert_exporter": "python",
   "pygments_lexer": "ipython3",
   "version": "3.12.7"
  }
 },
 "nbformat": 4,
 "nbformat_minor": 5
}
